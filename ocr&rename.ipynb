{
 "cells": [
  {
   "cell_type": "code",
   "execution_count": 1,
   "id": "76dff6db-9f59-44f4-a2e4-6b653fbd5273",
   "metadata": {},
   "outputs": [],
   "source": [
    "from wand.image import Image\n",
    "from PIL import Image as PI\n",
    "import pyocr\n",
    "import pyocr.builders\n",
    "import io\n",
    "import glob\n",
    "import re\n",
    "import os\n",
    "import shutil\n",
    "\n",
    "# 设置路径\n",
    "pyocr.tesseract.TESSERACT_CMD = r'D:\\Program Files\\ocr\\Tesseract-OCR\\tesseract.exe'\n",
    "\n",
    "# 文件夹路径\n",
    "# path = r\"D:\\ocr\\自建房合法合规性问题整治验收销号单11.3\\2\"\n",
    "\n",
    "# 获取配置好的 tesseract 便于后面调用\n",
    "tool = pyocr.get_available_tools()[0]"
   ]
  },
  {
   "cell_type": "code",
   "execution_count": 2,
   "id": "407ecd1d-e43d-4fa4-94f0-3d117f078d03",
   "metadata": {},
   "outputs": [
    {
     "name": "stdout",
     "output_type": "stream",
     "text": [
      "1\n",
      "2\n",
      "3\n",
      "4\n",
      "5\n",
      "6\n",
      "7\n",
      "8\n"
     ]
    }
   ],
   "source": [
    "base = r\"D:\\ocr\\12.6自建房资料\"\n",
    "list = [];\n",
    "file_list = os.listdir(base)\n",
    "for file_name in file_list:\n",
    "    list.append(file_name)\n",
    "\n",
    "for i in list:\n",
    "    print(i)"
   ]
  },
  {
   "cell_type": "markdown",
   "id": "e7b71125-c5f5-4c9a-b721-ac10b6befdb7",
   "metadata": {},
   "source": [
    "## 批量处理"
   ]
  },
  {
   "cell_type": "code",
   "execution_count": 3,
   "id": "fc774624-5b60-4713-bd0a-38a62a27da09",
   "metadata": {},
   "outputs": [
    {
     "name": "stdout",
     "output_type": "stream",
     "text": [
      "D:\\ocr\\12.6自建房资料\\1\n",
      "重复的文件：D:\\ocr\\12.6自建房资料\\1\\632299 (2).pdf\n",
      "重复的文件：D:\\ocr\\12.6自建房资料\\1\\667913 (2).pdf\n",
      "重复的文件：D:\\ocr\\12.6自建房资料\\1\\656849 (2).pdf\n",
      "D:\\ocr\\12.6自建房资料\\2\n",
      "D:\\ocr\\12.6自建房资料\\3\n",
      "重复的文件：D:\\ocr\\12.6自建房资料\\3\\644191 (2).pdf\n",
      "D:\\ocr\\12.6自建房资料\\4\n",
      "D:\\ocr\\12.6自建房资料\\5\n",
      "重复的文件：D:\\ocr\\12.6自建房资料\\5\\542274 (2).pdf\n",
      "D:\\ocr\\12.6自建房资料\\6\n",
      "重复的文件：D:\\ocr\\12.6自建房资料\\6\\640559 (2).pdf\n",
      "重复的文件：D:\\ocr\\12.6自建房资料\\6\\505795 (2).pdf\n",
      "重复的文件：D:\\ocr\\12.6自建房资料\\6\\504920 (2).pdf\n",
      "D:\\ocr\\12.6自建房资料\\7\n",
      "重复的文件：D:\\ocr\\12.6自建房资料\\7\\461747 (2).pdf\n",
      "重复的文件：D:\\ocr\\12.6自建房资料\\7\\395484 (2).pdf\n",
      "重复的文件：D:\\ocr\\12.6自建房资料\\7\\399566 (2).pdf\n",
      "D:\\ocr\\12.6自建房资料\\8\n",
      "重复的文件：D:\\ocr\\12.6自建房资料\\8\\384208 (2).pdf\n"
     ]
    }
   ],
   "source": [
    "for i in list:\n",
    "    path = base + r'\\{}'.format(i)\n",
    "    print(path)\n",
    "    cnt = 0\n",
    "    \n",
    "    # 列出目录下的所有文件和文件夹\n",
    "    file_list = os.listdir(path)\n",
    "    \n",
    "    for file_name in file_list:\n",
    "        # file_extension = os.path.splitext(file_name)[-1].lower()\n",
    "        # if file_extension != '.pdf':\n",
    "        #     continue\n",
    "\n",
    "        # 跳过已经命名的文件\n",
    "        if len(file_name) == 10:\n",
    "            continue\n",
    "        \n",
    "        image_pdf = Image(filename=path + r'\\{}'.format(file_name), resolution=300)\n",
    "        image_jpeg = image_pdf.convert('jpeg')\n",
    "        \n",
    "        # 将图片解析为二进制矩阵\n",
    "        image_lst = []\n",
    "        for img in image_jpeg.sequence:\n",
    "            img_page = Image(image=img)\n",
    "            image_lst.append(img_page.make_blob('jpeg'))\n",
    "        # 用 io 模块的 BytesIO 方法读取二进制内容为图片形式，并预览图片\n",
    "        new_img = PI.open(io.BytesIO(image_lst[0]))\n",
    "        # new_img.show()\n",
    "    \n",
    "        # 解析房屋排查编号\n",
    "        left = 640\n",
    "        top = 480\n",
    "        right = left + 580\n",
    "        bottom = top + 200\n",
    "        \n",
    "        image_obj1 = new_img.crop((left, top, right, bottom))\n",
    "        # image_obj1.show()\n",
    "    \n",
    "        # 截取成功后可以交给 OCR\n",
    "        txt1 = tool.image_to_string(image_obj1)\n",
    "        # print(txt1)\n",
    "        \n",
    "        req = 'H(.*)'\n",
    "        tmp = re.findall(req, txt1)\n",
    "        txt1_real = ''\n",
    "        if len(tmp):\n",
    "            txt1_real = ''.join(tmp[0].split())[9:15]\n",
    "    \n",
    "        # print(txt1_real)\n",
    "        if len(txt1_real) != 6 or not txt1_real.isdigit():\n",
    "            cnt += 1\n",
    "            print(\"miss file : {}\".format(file_name))\n",
    "            continue\n",
    "            \n",
    "        # 用后 6 位重命名\n",
    "        newfile = path + r'\\{}.pdf'.format(txt1_real)\n",
    "        cnt = 2\n",
    "        while os.path.exists(newfile):\n",
    "            # print(\"file {} exists.\".format(file_name))\n",
    "            newfile = path + r'\\{} ({}).pdf'.format(txt1_real, cnt)\n",
    "            cnt += 1\n",
    "            print(\"重复的文件：{}\".format(newfile))\n",
    "        os.rename(path + r'\\{}'.format(file_name), newfile)\n",
    "\n",
    "    # print('successful!')\n",
    "    # print(\"miss {} files !\".format(cnt))\n",
    "    "
   ]
  },
  {
   "cell_type": "markdown",
   "id": "3ed649b7-f352-467d-a977-ec2cde9f12c2",
   "metadata": {},
   "source": [
    "## 处理单个 pdf"
   ]
  },
  {
   "cell_type": "code",
   "execution_count": 16,
   "id": "419b3a02-3b12-4c50-ae35-967a8113e205",
   "metadata": {},
   "outputs": [
    {
     "name": "stdout",
     "output_type": "stream",
     "text": [
      "I\n",
      "\n",
      "J| YH430182000462648\n",
      "this: 462648\n"
     ]
    }
   ],
   "source": [
    "path = r\"D:\\ocr\\12.5晚上自建房\\1\"\n",
    "file_name = '202312051434_0038.pdf'\n",
    "# 以 202309181637_0048.pdf 为例\n",
    "image_pdf = Image(filename=path + r'\\{}'.format(file_name), resolution=300)\n",
    "image_jpeg = image_pdf.convert('jpeg')\n",
    "\n",
    "# 将图片解析为二进制矩阵\n",
    "image_lst = []\n",
    "for img in image_jpeg.sequence:\n",
    "    img_page = Image(image=img)\n",
    "    image_lst.append(img_page.make_blob('jpeg'))\n",
    "\n",
    "# 用 io 模块的 BytesIO 方法读取二进制内容为图片形式，并预览图片\n",
    "new_img = PI.open(io.BytesIO(image_lst[0]))\n",
    "# new_img.show()\n",
    "\n",
    "# 解析房屋排查编号\n",
    "# left = 620\n",
    "# top = 600\n",
    "# right = left + 580\n",
    "# bottom = top + 200\n",
    "left = 640\n",
    "top = 480\n",
    "right = left + 580\n",
    "bottom = top + 200\n",
    "\n",
    "image_obj1 = new_img.crop((left, top, right, bottom))\n",
    "image_obj1.show()\n",
    "\n",
    "# 截取成功后可以交给 OCR\n",
    "txt1 = tool.image_to_string(image_obj1)\n",
    "print(txt1)\n",
    "\n",
    "# req = 'YH(.*)'\n",
    "req = 'H(.*)'\n",
    "tmp = re.findall(req, txt1)\n",
    "txt1_real = ''\n",
    "if len(tmp):\n",
    "    txt1_real = ''.join(tmp[0].split())[9:15]\n",
    "    print(\"this: \" + txt1_real)"
   ]
  },
  {
   "cell_type": "code",
   "execution_count": 23,
   "id": "8c3a72a8-9d6f-4b3f-90ed-fceef411962e",
   "metadata": {},
   "outputs": [],
   "source": [
    "# 用后 6 位重命名\n",
    "if len(txt1_real) == 6 and txt1_real != file_name:\n",
    "    os.rename(path + r'\\{}'.format(file_name), path + r'\\{}.pdf'.format(txt1_real))"
   ]
  }
 ],
 "metadata": {
  "kernelspec": {
   "display_name": "Python 3 (ipykernel)",
   "language": "python",
   "name": "python3"
  },
  "language_info": {
   "codemirror_mode": {
    "name": "ipython",
    "version": 3
   },
   "file_extension": ".py",
   "mimetype": "text/x-python",
   "name": "python",
   "nbconvert_exporter": "python",
   "pygments_lexer": "ipython3",
   "version": "3.11.5"
  }
 },
 "nbformat": 4,
 "nbformat_minor": 5
}
