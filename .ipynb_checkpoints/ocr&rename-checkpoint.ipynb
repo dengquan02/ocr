{
 "cells": [
  {
   "cell_type": "code",
   "execution_count": 1,
   "id": "76dff6db-9f59-44f4-a2e4-6b653fbd5273",
   "metadata": {},
   "outputs": [],
   "source": [
    "from wand.image import Image\n",
    "from PIL import Image as PI\n",
    "import pyocr\n",
    "import pyocr.builders\n",
    "import io\n",
    "import glob\n",
    "import re\n",
    "import os\n",
    "import shutil\n",
    "\n",
    "# 设置路径\n",
    "pyocr.tesseract.TESSERACT_CMD = r'D:\\Program Files\\ocr\\Tesseract-OCR\\tesseract.exe'\n",
    "\n",
    "# 文件夹路径\n",
    "# path = r\"D:\\ocr\\自建房合法合规性问题整治验收销号单11.3\\2\"\n",
    "\n",
    "# 获取配置好的 tesseract 便于后面调用\n",
    "tool = pyocr.get_available_tools()[0]"
   ]
  },
  {
   "cell_type": "code",
   "execution_count": 3,
   "id": "407ecd1d-e43d-4fa4-94f0-3d117f078d03",
   "metadata": {},
   "outputs": [
    {
     "name": "stdout",
     "output_type": "stream",
     "text": [
      "1\n",
      "10\n",
      "11\n",
      "12\n",
      "2\n",
      "3\n",
      "4\n",
      "5\n",
      "6\n",
      "7\n",
      "8\n",
      "9\n"
     ]
    }
   ],
   "source": [
    "base = r\"D:\\ocr\\自建房合法合规性问题整治验收销号单12.5\"\n",
    "list = [];\n",
    "file_list = os.listdir(base)\n",
    "for file_name in file_list:\n",
    "    list.append(file_name)\n",
    "\n",
    "for i in list:\n",
    "    print(i)"
   ]
  },
  {
   "cell_type": "code",
   "execution_count": 7,
   "id": "94335d44-0d59-426a-ad5e-20ca4792dafa",
   "metadata": {},
   "outputs": [
    {
     "name": "stdout",
     "output_type": "stream",
     "text": [
      "8\n",
      "9\n",
      "10\n",
      "11\n",
      "12\n"
     ]
    }
   ],
   "source": [
    "list = range(8,13)\n",
    "for i in list:\n",
    "    print(i)"
   ]
  },
  {
   "cell_type": "markdown",
   "id": "e7b71125-c5f5-4c9a-b721-ac10b6befdb7",
   "metadata": {},
   "source": [
    "## 批量处理"
   ]
  },
  {
   "cell_type": "code",
   "execution_count": null,
   "id": "fc774624-5b60-4713-bd0a-38a62a27da09",
   "metadata": {},
   "outputs": [
    {
     "name": "stdout",
     "output_type": "stream",
     "text": [
      "D:\\ocr\\自建房合法合规性问题整治验收销号单12.5\\8\n",
      "miss file : 202312051125_0014.pdf\n",
      "miss file : 202312051125_0017.pdf\n",
      "miss file : 202312051125_0025.pdf\n",
      "miss file : 202312051125_0103.pdf\n",
      "miss file : 202312051125_0105.pdf\n",
      "重复的文件：D:\\ocr\\自建房合法合规性问题整治验收销号单12.5\\8\\454590 (2).pdf\n",
      "miss file : 202312051125_0145.pdf\n",
      "miss file : 202312051125_0146.pdf\n",
      "D:\\ocr\\自建房合法合规性问题整治验收销号单12.5\\9\n",
      "重复的文件：D:\\ocr\\自建房合法合规性问题整治验收销号单12.5\\9\\552849 (2).pdf\n",
      "重复的文件：D:\\ocr\\自建房合法合规性问题整治验收销号单12.5\\9\\651894 (2).pdf\n",
      "重复的文件：D:\\ocr\\自建房合法合规性问题整治验收销号单12.5\\9\\541802 (2).pdf\n",
      "重复的文件：D:\\ocr\\自建房合法合规性问题整治验收销号单12.5\\9\\648530 (2).pdf\n",
      "D:\\ocr\\自建房合法合规性问题整治验收销号单12.5\\10\n",
      "重复的文件：D:\\ocr\\自建房合法合规性问题整治验收销号单12.5\\10\\524375 (2).pdf\n",
      "miss file : 20231204201001805_0074.pdf\n",
      "重复的文件：D:\\ocr\\自建房合法合规性问题整治验收销号单12.5\\10\\546647 (2).pdf\n",
      "重复的文件：D:\\ocr\\自建房合法合规性问题整治验收销号单12.5\\10\\546651 (2).pdf\n",
      "D:\\ocr\\自建房合法合规性问题整治验收销号单12.5\\11\n"
     ]
    }
   ],
   "source": [
    "for i in list:\n",
    "    path = base + r'\\{}'.format(i)\n",
    "    print(path)\n",
    "    cnt = 0\n",
    "    \n",
    "    # 列出目录下的所有文件和文件夹\n",
    "    file_list = os.listdir(path)\n",
    "    \n",
    "    for file_name in file_list:\n",
    "        # file_extension = os.path.splitext(file_name)[-1].lower()\n",
    "        # if file_extension != '.pdf':\n",
    "        #     continue\n",
    "\n",
    "        # 跳过已经命名的文件\n",
    "        if len(file_name) == 10:\n",
    "            continue\n",
    "        \n",
    "        image_pdf = Image(filename=path + r'\\{}'.format(file_name), resolution=300)\n",
    "        image_jpeg = image_pdf.convert('jpeg')\n",
    "        \n",
    "        # 将图片解析为二进制矩阵\n",
    "        image_lst = []\n",
    "        for img in image_jpeg.sequence:\n",
    "            img_page = Image(image=img)\n",
    "            image_lst.append(img_page.make_blob('jpeg'))\n",
    "        # 用 io 模块的 BytesIO 方法读取二进制内容为图片形式，并预览图片\n",
    "        new_img = PI.open(io.BytesIO(image_lst[0]))\n",
    "        # new_img.show()\n",
    "    \n",
    "        # 解析房屋排查编号\n",
    "        left = 620\n",
    "        top = 450\n",
    "        right = left + 580\n",
    "        bottom = top + 200\n",
    "        \n",
    "        image_obj1 = new_img.crop((left, top, right, bottom))\n",
    "        # image_obj1.show()\n",
    "    \n",
    "        # 截取成功后可以交给 OCR\n",
    "        txt1 = tool.image_to_string(image_obj1)\n",
    "        # print(txt1)\n",
    "        \n",
    "        req = 'H(.*)'\n",
    "        tmp = re.findall(req, txt1)\n",
    "        txt1_real = ''\n",
    "        if len(tmp):\n",
    "            txt1_real = ''.join(tmp[0].split())[9:15]\n",
    "    \n",
    "        # print(txt1_real)\n",
    "        if len(txt1_real) != 6 or not txt1_real.isdigit():\n",
    "            cnt += 1\n",
    "            print(\"miss file : {}\".format(file_name))\n",
    "            continue\n",
    "            \n",
    "        # 用后 6 位重命名\n",
    "        newfile = path + r'\\{}.pdf'.format(txt1_real)\n",
    "        cnt = 2\n",
    "        while os.path.exists(newfile):\n",
    "            # print(\"file {} exists.\".format(file_name))\n",
    "            newfile = path + r'\\{} ({}).pdf'.format(txt1_real, cnt)\n",
    "            cnt += 1\n",
    "            print(\"重复的文件：{}\".format(newfile))\n",
    "        os.rename(path + r'\\{}'.format(file_name), newfile)\n",
    "\n",
    "    # print('successful!')\n",
    "    # print(\"miss {} files !\".format(cnt))\n",
    "    "
   ]
  },
  {
   "cell_type": "markdown",
   "id": "3ed649b7-f352-467d-a977-ec2cde9f12c2",
   "metadata": {},
   "source": [
    "## 处理单个 pdf"
   ]
  },
  {
   "cell_type": "code",
   "execution_count": 5,
   "id": "419b3a02-3b12-4c50-ae35-967a8113e205",
   "metadata": {},
   "outputs": [
    {
     "ename": "BlobError",
     "evalue": "unable to open image 'D:\\ocr\\未命名\\姜秋莲等户\\202311281138_0001.pdf': No such file or directory @ error/blob.c/OpenBlob/3573",
     "output_type": "error",
     "traceback": [
      "\u001b[1;31m---------------------------------------------------------------------------\u001b[0m",
      "\u001b[1;31mBlobError\u001b[0m                                 Traceback (most recent call last)",
      "Cell \u001b[1;32mIn[5], line 4\u001b[0m\n\u001b[0;32m      2\u001b[0m file_name \u001b[38;5;241m=\u001b[39m \u001b[38;5;124m'\u001b[39m\u001b[38;5;124m202311281138_0001.pdf\u001b[39m\u001b[38;5;124m'\u001b[39m\n\u001b[0;32m      3\u001b[0m \u001b[38;5;66;03m# 以 202309181637_0048.pdf 为例\u001b[39;00m\n\u001b[1;32m----> 4\u001b[0m image_pdf \u001b[38;5;241m=\u001b[39m \u001b[43mImage\u001b[49m\u001b[43m(\u001b[49m\u001b[43mfilename\u001b[49m\u001b[38;5;241;43m=\u001b[39;49m\u001b[43mpath\u001b[49m\u001b[43m \u001b[49m\u001b[38;5;241;43m+\u001b[39;49m\u001b[43m \u001b[49m\u001b[38;5;124;43mr\u001b[39;49m\u001b[38;5;124;43m'\u001b[39;49m\u001b[38;5;124;43m\\\u001b[39;49m\u001b[38;5;132;43;01m{}\u001b[39;49;00m\u001b[38;5;124;43m'\u001b[39;49m\u001b[38;5;241;43m.\u001b[39;49m\u001b[43mformat\u001b[49m\u001b[43m(\u001b[49m\u001b[43mfile_name\u001b[49m\u001b[43m)\u001b[49m\u001b[43m,\u001b[49m\u001b[43m \u001b[49m\u001b[43mresolution\u001b[49m\u001b[38;5;241;43m=\u001b[39;49m\u001b[38;5;241;43m300\u001b[39;49m\u001b[43m)\u001b[49m\n\u001b[0;32m      5\u001b[0m image_jpeg \u001b[38;5;241m=\u001b[39m image_pdf\u001b[38;5;241m.\u001b[39mconvert(\u001b[38;5;124m'\u001b[39m\u001b[38;5;124mjpeg\u001b[39m\u001b[38;5;124m'\u001b[39m)\n\u001b[0;32m      7\u001b[0m \u001b[38;5;66;03m# 将图片解析为二进制矩阵\u001b[39;00m\n",
      "File \u001b[1;32mD:\\CONDA\\envs\\ocr_rename\\Lib\\site-packages\\wand\\image.py:9365\u001b[0m, in \u001b[0;36mImage.__init__\u001b[1;34m(self, image, blob, file, filename, pseudo, background, colorspace, depth, extract, format, height, interlace, resolution, sampling_factors, units, width)\u001b[0m\n\u001b[0;32m   9363\u001b[0m     \u001b[38;5;28mself\u001b[39m\u001b[38;5;241m.\u001b[39mread(blob\u001b[38;5;241m=\u001b[39mblob)\n\u001b[0;32m   9364\u001b[0m \u001b[38;5;28;01melif\u001b[39;00m filename \u001b[38;5;129;01mis\u001b[39;00m \u001b[38;5;129;01mnot\u001b[39;00m \u001b[38;5;28;01mNone\u001b[39;00m:\n\u001b[1;32m-> 9365\u001b[0m     \u001b[38;5;28;43mself\u001b[39;49m\u001b[38;5;241;43m.\u001b[39;49m\u001b[43mread\u001b[49m\u001b[43m(\u001b[49m\u001b[43mfilename\u001b[49m\u001b[38;5;241;43m=\u001b[39;49m\u001b[43mfilename\u001b[49m\u001b[43m)\u001b[49m\n\u001b[0;32m   9366\u001b[0m \u001b[38;5;66;03m# clear the wand format, otherwise any subsequent call to\u001b[39;00m\n\u001b[0;32m   9367\u001b[0m \u001b[38;5;66;03m# MagickGetImageBlob will silently change the image to this\u001b[39;00m\n\u001b[0;32m   9368\u001b[0m \u001b[38;5;66;03m# format again.\u001b[39;00m\n\u001b[0;32m   9369\u001b[0m library\u001b[38;5;241m.\u001b[39mMagickSetFormat(\u001b[38;5;28mself\u001b[39m\u001b[38;5;241m.\u001b[39mwand, binary(\u001b[38;5;124m\"\u001b[39m\u001b[38;5;124m\"\u001b[39m))\n",
      "File \u001b[1;32mD:\\CONDA\\envs\\ocr_rename\\Lib\\site-packages\\wand\\image.py:10120\u001b[0m, in \u001b[0;36mImage.read\u001b[1;34m(self, file, filename, blob, background, colorspace, depth, extract, format, height, interlace, resolution, sampling_factors, units, width)\u001b[0m\n\u001b[0;32m  10118\u001b[0m     r \u001b[38;5;241m=\u001b[39m library\u001b[38;5;241m.\u001b[39mMagickReadImage(\u001b[38;5;28mself\u001b[39m\u001b[38;5;241m.\u001b[39mwand, filename)\n\u001b[0;32m  10119\u001b[0m \u001b[38;5;28;01mif\u001b[39;00m \u001b[38;5;129;01mnot\u001b[39;00m r:\n\u001b[1;32m> 10120\u001b[0m     \u001b[38;5;28;43mself\u001b[39;49m\u001b[38;5;241;43m.\u001b[39;49m\u001b[43mraise_exception\u001b[49m\u001b[43m(\u001b[49m\u001b[43m)\u001b[49m\n\u001b[0;32m  10121\u001b[0m     msg \u001b[38;5;241m=\u001b[39m (\u001b[38;5;124m'\u001b[39m\u001b[38;5;124mMagickReadImage returns false, but did not raise \u001b[39m\u001b[38;5;124m'\u001b[39m\n\u001b[0;32m  10122\u001b[0m            \u001b[38;5;124m'\u001b[39m\u001b[38;5;124mImageMagick  exception. This can occur when a delegate \u001b[39m\u001b[38;5;124m'\u001b[39m\n\u001b[0;32m  10123\u001b[0m            \u001b[38;5;124m'\u001b[39m\u001b[38;5;124mis missing, or returns EXIT_SUCCESS without generating a \u001b[39m\u001b[38;5;124m'\u001b[39m\n\u001b[0;32m  10124\u001b[0m            \u001b[38;5;124m'\u001b[39m\u001b[38;5;124mraster.\u001b[39m\u001b[38;5;124m'\u001b[39m)\n\u001b[0;32m  10125\u001b[0m     \u001b[38;5;28;01mraise\u001b[39;00m WandRuntimeError(msg)\n",
      "File \u001b[1;32mD:\\CONDA\\envs\\ocr_rename\\Lib\\site-packages\\wand\\resource.py:225\u001b[0m, in \u001b[0;36mResource.raise_exception\u001b[1;34m(self, stacklevel)\u001b[0m\n\u001b[0;32m    223\u001b[0m     warnings\u001b[38;5;241m.\u001b[39mwarn(e, stacklevel\u001b[38;5;241m=\u001b[39mstacklevel \u001b[38;5;241m+\u001b[39m \u001b[38;5;241m1\u001b[39m)\n\u001b[0;32m    224\u001b[0m \u001b[38;5;28;01melif\u001b[39;00m \u001b[38;5;28misinstance\u001b[39m(e, \u001b[38;5;167;01mException\u001b[39;00m):\n\u001b[1;32m--> 225\u001b[0m     \u001b[38;5;28;01mraise\u001b[39;00m e\n",
      "\u001b[1;31mBlobError\u001b[0m: unable to open image 'D:\\ocr\\未命名\\姜秋莲等户\\202311281138_0001.pdf': No such file or directory @ error/blob.c/OpenBlob/3573"
     ]
    }
   ],
   "source": [
    "path = r\"D:\\ocr\\自建房合法合规性问题整治验收销号单12.5\"\n",
    "file_name = '202311281138_0001.pdf'\n",
    "# 以 202309181637_0048.pdf 为例\n",
    "image_pdf = Image(filename=path + r'\\{}'.format(file_name), resolution=300)\n",
    "image_jpeg = image_pdf.convert('jpeg')\n",
    "\n",
    "# 将图片解析为二进制矩阵\n",
    "image_lst = []\n",
    "for img in image_jpeg.sequence:\n",
    "    img_page = Image(image=img)\n",
    "    image_lst.append(img_page.make_blob('jpeg'))\n",
    "\n",
    "# 用 io 模块的 BytesIO 方法读取二进制内容为图片形式，并预览图片\n",
    "new_img = PI.open(io.BytesIO(image_lst[0]))\n",
    "# new_img.show()\n",
    "\n",
    "# 解析房屋排查编号\n",
    "left = 620\n",
    "top = 600\n",
    "right = left + 580\n",
    "bottom = top + 200\n",
    "# print(left, top, right, bottom)\n",
    "\n",
    "image_obj1 = new_img.crop((left, top, right, bottom))\n",
    "image_obj1.show()\n",
    "\n",
    "# 截取成功后可以交给 OCR\n",
    "txt1 = tool.image_to_string(image_obj1)\n",
    "print(txt1)\n",
    "\n",
    "# req = 'YH(.*)'\n",
    "req = 'H(.*)'\n",
    "tmp = re.findall(req, txt1)\n",
    "txt1_real = ''\n",
    "if len(tmp):\n",
    "    txt1_real = ''.join(tmp[0].split())[9:15]\n",
    "    print(\"this: \" + txt1_real)"
   ]
  },
  {
   "cell_type": "code",
   "execution_count": 23,
   "id": "8c3a72a8-9d6f-4b3f-90ed-fceef411962e",
   "metadata": {},
   "outputs": [],
   "source": [
    "# 用后 6 位重命名\n",
    "if len(txt1_real) == 6 and txt1_real != file_name:\n",
    "    os.rename(path + r'\\{}'.format(file_name), path + r'\\{}.pdf'.format(txt1_real))"
   ]
  }
 ],
 "metadata": {
  "kernelspec": {
   "display_name": "Python 3 (ipykernel)",
   "language": "python",
   "name": "python3"
  },
  "language_info": {
   "codemirror_mode": {
    "name": "ipython",
    "version": 3
   },
   "file_extension": ".py",
   "mimetype": "text/x-python",
   "name": "python",
   "nbconvert_exporter": "python",
   "pygments_lexer": "ipython3",
   "version": "3.11.5"
  }
 },
 "nbformat": 4,
 "nbformat_minor": 5
}
